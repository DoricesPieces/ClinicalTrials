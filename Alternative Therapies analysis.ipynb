{
 "cells": [
  {
   "cell_type": "markdown",
   "metadata": {},
   "source": [
    "# **Are alternative therapies being tested for treatment of the most common natural death causes?**\n",
    "\n",
    "There are 20 csv files from https://clinicaltrials.gov searches for common Alternative Therapies  and 1 csv file from NCHS/CDC https://data.cdc.gov/NCHS/NCHS-Leading-Causes-of-Death-United-States/bi63-dtpu/about_data \n",
    "\n",
    "\n",
    "\n",
    "\n",
    "**Import some common alternative therapies dataframes along a with natural death data frame of the United States to see if there is a correlation.**"
   ]
  },
  {
   "cell_type": "code",
   "execution_count": null,
   "metadata": {},
   "outputs": [],
   "source": [
    "import pandas as pd\n",
    "import matplotlib\n",
    "import numpy as np\n",
    "import re\n",
    "import matplotlib.pyplot as plt\n",
    "from matplotlib.ticker import FuncFormatter\n",
    "import seaborn as sns\n",
    "\n",
    "data1 = pd.read_csv(\"Acupuncture.csv\")\n",
    "data2 = pd.read_csv(\"Aromatherapy.csv\")\n",
    "data3 = pd.read_csv(\"Ayurveda.csv\")\n",
    "data4 = pd.read_csv(\"Cannabis.csv\")\n",
    "data5 = pd.read_csv(\"Chiropratic.csv\")\n",
    "data6 = pd.read_csv(\"Dietarysupplement.csv\")\n",
    "data7 = pd.read_csv(\"Electromagnetic.csv\")\n",
    "data8 = pd.read_csv(\"Exercise.csv\")\n",
    "data9 = pd.read_csv(\"Guidedimagery.csv\")\n",
    "data10 = pd.read_csv(\"Herbalmedicine.csv\")\n",
    "data11 = pd.read_csv(\"Hypnotherapy.csv\")\n",
    "data12 = pd.read_csv(\"Lighttherapy.csv\")\n",
    "data13 = pd.read_csv(\"Massage.csv\")\n",
    "data14 = pd.read_csv(\"Meditation.csv\")\n",
    "data15 = pd.read_csv(\"Mindbody.csv\")\n",
    "data16 = pd.read_csv(\"Musictherapy.csv\")\n",
    "data17 = pd.read_csv(\"Osteopathy.csv\")\n",
    "data18 = pd.read_csv(\"Reiki.csv\")\n",
    "data19 = pd.read_csv(\"TaiChi.csv\")\n",
    "data20 = pd.read_csv(\"Yoga.csv\")\n",
    "\n",
    "deaths = pd.read_csv(\"NCHS_-_Leading_Causes_of_Death__United_States.csv\")\n",
    "\n",
    "#Check to make sure we imported at least one dataframe successfully\n",
    "print(data1.shape)\n",
    "data1.head(5)\n",
    "\n"
   ]
  },
  {
   "cell_type": "markdown",
   "metadata": {},
   "source": [
    "**Remove rows that do not contain treatment type and adds the treatment type as a new column constant.**\n",
    "\n",
    "Cleaning some data prior to merge.  This step is repeated for all 20 alternative therapy dataframes."
   ]
  },
  {
   "cell_type": "code",
   "execution_count": null,
   "metadata": {},
   "outputs": [],
   "source": [
    "#data1\n",
    "\n",
    "word = 'Acupuncture'\n",
    "\n",
    "data1 = data1[data1['Interventions'].str.contains(word, case=False, na=False)]\n",
    "data1['Treatment']= 'Acupunture'\n",
    "\n",
    "data1.head(1)"
   ]
  },
  {
   "cell_type": "code",
   "execution_count": null,
   "metadata": {},
   "outputs": [],
   "source": [
    "#data2\n",
    "\n",
    "word = 'Aromatherapy'\n",
    "\n",
    "data2 = data2[data2['Interventions'].str.contains(word, case=False, na=False)]\n",
    "data2['Treatment']= 'Aromatherapy'\n",
    "\n",
    "data2.head(1)"
   ]
  },
  {
   "cell_type": "code",
   "execution_count": null,
   "metadata": {},
   "outputs": [],
   "source": [
    "#data3\n",
    "\n",
    "word = 'Ayurveda'\n",
    "\n",
    "data3 = data3[data3['Interventions'].str.contains(word, case=False, na=False)]\n",
    "data3['Treatment']= 'Ayurveda'\n",
    "\n",
    "data3.head(1)"
   ]
  },
  {
   "cell_type": "code",
   "execution_count": null,
   "metadata": {},
   "outputs": [],
   "source": [
    "#data4\n",
    "\n",
    "word = 'Cannabis'\n",
    "\n",
    "data4 = data4[data4['Interventions'].str.contains(word, case=False, na=False)]\n",
    "data4['Treatment']= 'Cannabis'\n",
    "\n",
    "data4.head(1)"
   ]
  },
  {
   "cell_type": "code",
   "execution_count": null,
   "metadata": {},
   "outputs": [],
   "source": [
    "#data5\n",
    "\n",
    "word = 'Chiropractic'\n",
    "\n",
    "data5 = data5[data5['Interventions'].str.contains(word, case=False, na=False)]\n",
    "data5['Treatment']= 'Chiropractic'\n",
    "\n",
    "data5.head(1)"
   ]
  },
  {
   "cell_type": "code",
   "execution_count": null,
   "metadata": {},
   "outputs": [],
   "source": [
    "#data6\n",
    "\n",
    "word = 'Supplement'\n",
    "\n",
    "data6 = data6[data6['Interventions'].str.contains(word, case=False, na=False)]\n",
    "data6['Treatment']= 'Supplement'\n",
    "\n",
    "data6.head(1)"
   ]
  },
  {
   "cell_type": "code",
   "execution_count": null,
   "metadata": {},
   "outputs": [],
   "source": [
    "#data7\n",
    "\n",
    "word = 'Electromagnetic'\n",
    "\n",
    "data7 = data7[data7['Interventions'].str.contains(word, case=False, na=False)]\n",
    "data7['Treatment']= 'Electromagnetic'\n",
    "\n",
    "data7.head(1)"
   ]
  },
  {
   "cell_type": "code",
   "execution_count": null,
   "metadata": {},
   "outputs": [],
   "source": [
    "#data8\n",
    "\n",
    "word = 'Exercise'\n",
    "\n",
    "data8 = data8[data8['Interventions'].str.contains(word, case=False, na=False)]\n",
    "data8['Treatment']= 'Exercise'\n",
    "\n",
    "data8.head(1)"
   ]
  },
  {
   "cell_type": "code",
   "execution_count": null,
   "metadata": {},
   "outputs": [],
   "source": [
    "#data9\n",
    "\n",
    "word = 'Imagery'\n",
    "\n",
    "data9 = data9[data9['Interventions'].str.contains(word, case=False, na=False)]\n",
    "data9['Treatment']= 'Guided Imagery'\n",
    "\n",
    "data9.head(1)"
   ]
  },
  {
   "cell_type": "code",
   "execution_count": null,
   "metadata": {},
   "outputs": [],
   "source": [
    "#data10\n",
    "\n",
    "word = 'Herbal'\n",
    "\n",
    "data10 = data10[data10['Interventions'].str.contains(word, case=False, na=False)]\n",
    "data10['Treatment']= 'Herbal'\n",
    "\n",
    "data10.head(1)"
   ]
  },
  {
   "cell_type": "code",
   "execution_count": null,
   "metadata": {},
   "outputs": [],
   "source": [
    "#data11\n",
    "\n",
    "word = 'Hypno'\n",
    "\n",
    "data11 = data11[data11['Interventions'].str.contains(word, case=False, na=False)]\n",
    "data11['Treatment']= 'Hypnotherapy'\n",
    "\n",
    "data11.head(1)"
   ]
  },
  {
   "cell_type": "code",
   "execution_count": null,
   "metadata": {},
   "outputs": [],
   "source": [
    "#data12\n",
    "\n",
    "word = 'Light'\n",
    "\n",
    "data12 = data12[data12['Interventions'].str.contains(word, case=False, na=False)]\n",
    "data12['Treatment']= 'Light Therapy'\n",
    "\n",
    "data12.head(1)"
   ]
  },
  {
   "cell_type": "code",
   "execution_count": null,
   "metadata": {},
   "outputs": [],
   "source": [
    "#data13\n",
    "\n",
    "word = 'Massage'\n",
    "\n",
    "data13 = data13[data13['Interventions'].str.contains(word, case=False, na=False)]\n",
    "data13['Treatment']= 'Massage'\n",
    "\n",
    "data13.head(1)"
   ]
  },
  {
   "cell_type": "code",
   "execution_count": null,
   "metadata": {},
   "outputs": [],
   "source": [
    "#data14\n",
    "\n",
    "word = 'Meditation'\n",
    "\n",
    "data14 = data14[data14['Interventions'].str.contains(word, case=False, na=False)]\n",
    "data14['Treatment']= 'Meditation'\n",
    "\n",
    "data14.head(1)"
   ]
  },
  {
   "cell_type": "code",
   "execution_count": null,
   "metadata": {},
   "outputs": [],
   "source": [
    "#data15\n",
    "\n",
    "word = 'Mind'\n",
    "\n",
    "data15 = data15[data15['Interventions'].str.contains(word, case=False, na=False)]\n",
    "data15['Treatment']= 'Mindbody'\n",
    "\n",
    "data15.head(1)"
   ]
  },
  {
   "cell_type": "code",
   "execution_count": null,
   "metadata": {},
   "outputs": [],
   "source": [
    "#data16\n",
    "\n",
    "word = 'Music'\n",
    "\n",
    "data16 = data16[data16['Interventions'].str.contains(word, case=False, na=False)]\n",
    "data16['Treatment']= 'Music'\n",
    "\n",
    "data16.head(1)"
   ]
  },
  {
   "cell_type": "code",
   "execution_count": null,
   "metadata": {},
   "outputs": [],
   "source": [
    "#data17\n",
    "\n",
    "word = 'Osteopathy'\n",
    "\n",
    "data17 = data17[data17['Interventions'].str.contains(word, case=False, na=False)]\n",
    "data17['Treatment']= 'Osteopathy'\n",
    "\n",
    "data17.head(1)"
   ]
  },
  {
   "cell_type": "code",
   "execution_count": null,
   "metadata": {},
   "outputs": [],
   "source": [
    "#data18\n",
    "\n",
    "word = 'Reiki'\n",
    "\n",
    "data18 = data18[data18['Interventions'].str.contains(word, case=False, na=False)]\n",
    "data18['Treatment']= 'Massage'\n",
    "\n",
    "data18.head(1)"
   ]
  },
  {
   "cell_type": "code",
   "execution_count": null,
   "metadata": {},
   "outputs": [],
   "source": [
    "#data19\n",
    "\n",
    "word = 'TaiChi'\n",
    "\n",
    "data19 = data19[data19['Interventions'].str.contains(word, case=False, na=False)]\n",
    "data19['Treatment']= 'Exercise'\n",
    "\n",
    "data19.head(1)"
   ]
  },
  {
   "cell_type": "code",
   "execution_count": null,
   "metadata": {},
   "outputs": [],
   "source": [
    "#data20\n",
    "\n",
    "word = 'Yoga'\n",
    "\n",
    "data20 = data20[data20['Interventions'].str.contains(word, case=False, na=False)]\n",
    "data20['Treatment']= 'Exercise'\n",
    "\n",
    "data20.head(1)"
   ]
  },
  {
   "cell_type": "markdown",
   "metadata": {},
   "source": [
    "**Merge all 20 alternative therapies into one dataframe**"
   ]
  },
  {
   "cell_type": "code",
   "execution_count": null,
   "metadata": {},
   "outputs": [],
   "source": [
    "#Merging csv files\n",
    "alternativetherapies = [data1, data2, data3, data4, data5, data6, data7, data8, data9, data10, data11, data12, data13, data14, data15, data16, data17, data18, data19, data20]\n",
    "\n",
    "alternativetherapies = pd.concat(alternativetherapies)\n",
    "alternativetherapies"
   ]
  },
  {
   "cell_type": "markdown",
   "metadata": {},
   "source": [
    "# CLEANING DATA\n",
    "**Check for missing values**"
   ]
  },
  {
   "cell_type": "code",
   "execution_count": null,
   "metadata": {},
   "outputs": [],
   "source": [
    "alternativetherapies.isnull().any(axis=0)\n"
   ]
  },
  {
   "cell_type": "markdown",
   "metadata": {},
   "source": [
    "**Remove rows that have missing data**"
   ]
  },
  {
   "cell_type": "code",
   "execution_count": null,
   "metadata": {},
   "outputs": [],
   "source": [
    "alternativetherapies = alternativetherapies.dropna()\n",
    "alternativetherapies"
   ]
  },
  {
   "cell_type": "markdown",
   "metadata": {},
   "source": [
    "**Second check to ensure there is no missing data**"
   ]
  },
  {
   "cell_type": "code",
   "execution_count": null,
   "metadata": {},
   "outputs": [],
   "source": [
    "alternativetherapies.isnull().any(axis=0)"
   ]
  },
  {
   "cell_type": "markdown",
   "metadata": {},
   "source": [
    "**Dropping unnecessary columns from Alternative Therapies dataframe**"
   ]
  },
  {
   "cell_type": "code",
   "execution_count": null,
   "metadata": {},
   "outputs": [],
   "source": [
    "clmnstodrop = [\"NCT Number\",\"Study URL\",\"Study Results\",\"Interventions\",\"Collaborators\",\"Sex\",\"Age\",\"Funder Type\",\"Study Type\",\"Start Date\",\"Completion Date\"]\n",
    "\n",
    "alternativetherapies = alternativetherapies.drop(columns = clmnstodrop)\n",
    "alternativetherapies"
   ]
  },
  {
   "cell_type": "markdown",
   "metadata": {},
   "source": [
    "**Viewing different column values and their occurrences**"
   ]
  },
  {
   "cell_type": "code",
   "execution_count": null,
   "metadata": {},
   "outputs": [],
   "source": [
    "alternativetherapies['Conditions'].value_counts()"
   ]
  },
  {
   "cell_type": "code",
   "execution_count": null,
   "metadata": {},
   "outputs": [],
   "source": [
    "alternativetherapies[\"Locations\"].value_counts()"
   ]
  },
  {
   "cell_type": "code",
   "execution_count": null,
   "metadata": {},
   "outputs": [],
   "source": [
    "ATT = alternativetherapies['Treatment'].value_counts()\n",
    "ATT"
   ]
  },
  {
   "cell_type": "code",
   "execution_count": null,
   "metadata": {},
   "outputs": [],
   "source": [
    "ATI = alternativetherapies['Treatment'].value_counts().index\n",
    "ATI"
   ]
  },
  {
   "cell_type": "markdown",
   "metadata": {},
   "source": [
    "**Using above Treatment column results to create a bar graph**"
   ]
  },
  {
   "cell_type": "code",
   "execution_count": null,
   "metadata": {},
   "outputs": [],
   "source": [
    "# Bar Graph Showing Amount of Trials for Each Alternative Therapy\n",
    "alternativetherapies['Treatment'].value_counts().plot(kind='bar', rot=90)"
   ]
  },
  {
   "cell_type": "markdown",
   "metadata": {},
   "source": [
    "This bar graph shows that taking a supplement is the most frequently studied treatment method involving alternative therapies.  This graph does make Osteopathy and Ayurveda look like there are no studies including these treatment.  Though they are the least occurring they did have results."
   ]
  },
  {
   "cell_type": "markdown",
   "metadata": {},
   "source": [
    "**Top 10 Conditions from Alternative Therapy Clinical Trials**"
   ]
  },
  {
   "cell_type": "code",
   "execution_count": null,
   "metadata": {},
   "outputs": [],
   "source": [
    "Top_10_Cond = alternativetherapies['Conditions'].value_counts().nlargest(10)\n",
    "Top_10_Cond"
   ]
  },
  {
   "cell_type": "code",
   "execution_count": null,
   "metadata": {},
   "outputs": [],
   "source": [
    "#Create a bar graph for Top 10 Conditions\n",
    "plt.figure(figsize=(10, 7))\n",
    "Top_10_Cond\n",
    "\n",
    "# Highlight the highest value in yellow, remainder in light grey\n",
    "colors = ['yellow' if i == 0 else 'lightgrey' for i in range(len(Top_10_Cond))]\n",
    "\n",
    "plt.bar(Top_10_Cond.index, Top_10_Cond.values, color=colors)\n",
    "\n",
    "# Add value only on the highest value\n",
    "plt.text(0, Top_10_Cond.values[0], f'{Top_10_Cond.values[0]:,.0f}', \n",
    "         ha='center', va='bottom', fontsize=12, color='black')\n",
    "\n",
    "# Formatting for x-axis labels and title\n",
    "plt.xticks(rotation=45, ha='right')\n",
    "plt.title('Top 10 Conditions for Alternative Therapy Clinical Trials')\n",
    "plt.xlabel('Conditions')\n",
    "plt.ylabel('Quantity')\n"
   ]
  },
  {
   "cell_type": "markdown",
   "metadata": {},
   "source": [
    "This bar graph indicates that the clinical trials sampled most frequently utilized healthy subjects to study alternative therapies."
   ]
  },
  {
   "cell_type": "code",
   "execution_count": null,
   "metadata": {},
   "outputs": [],
   "source": [
    "# Plotting the pie chart\n",
    "\n",
    "plt.figure(figsize=(16, 16))\n",
    "plt.pie(ATT, autopct='%1.1f%%', startangle=90)\n",
    "\n",
    "# Ensuring the circle's proportion\n",
    "plt.axis('equal')  \n",
    "\n",
    "# Adding a title\n",
    "plt.title('Types of Althernative Therapies studies in Clinical Trials')\n",
    "\n",
    "plt.legend(ATI)\n",
    "# Displaying the chart\n",
    "plt.show()"
   ]
  },
  {
   "cell_type": "markdown",
   "metadata": {},
   "source": [
    "**Cleaning data for natural causes of death dataframe**"
   ]
  },
  {
   "cell_type": "code",
   "execution_count": null,
   "metadata": {},
   "outputs": [],
   "source": [
    "#removing rows that have missing data\n",
    "deaths = deaths.dropna()\n",
    "deaths.head()"
   ]
  },
  {
   "cell_type": "code",
   "execution_count": null,
   "metadata": {},
   "outputs": [],
   "source": [
    "#Dropping unnecessary columns\n",
    "clmnstodrop2 = ['113 Cause Name', 'Age-adjusted Death Rate']\n",
    "deaths = deaths.drop(columns = clmnstodrop2)\n",
    "\n",
    "deaths"
   ]
  },
  {
   "cell_type": "code",
   "execution_count": null,
   "metadata": {},
   "outputs": [],
   "source": [
    "#filtering out rows that are state specific\n",
    "deaths_byUS = deaths[deaths['State'] == 'United States']\n",
    "deaths_byUS"
   ]
  },
  {
   "cell_type": "code",
   "execution_count": null,
   "metadata": {},
   "outputs": [],
   "source": [
    "#filtering out deaths that occurred prior to 2000\n",
    "deaths_byUS = deaths_byUS[deaths_byUS['Year'] >= 2000]\n",
    "deaths_byUS"
   ]
  },
  {
   "cell_type": "code",
   "execution_count": null,
   "metadata": {},
   "outputs": [],
   "source": [
    "#viewing the different causes of death\n",
    "CDC_causes_of_death = deaths_byUS['Cause Name'].unique()\n",
    "CDC_causes_of_death_list = CDC_causes_of_death.tolist()\n",
    "CDC_causes_of_death_list"
   ]
  },
  {
   "cell_type": "markdown",
   "metadata": {},
   "source": [
    "**Removing rows that have too broad of causes**"
   ]
  },
  {
   "cell_type": "code",
   "execution_count": null,
   "metadata": {},
   "outputs": [],
   "source": [
    "Causes_to_drop = ['Unintentional injuries', 'All causes']\n",
    "deaths_byUS = deaths_byUS[~deaths_byUS['Cause Name'].isin(Causes_to_drop)]\n",
    "deaths_byUS"
   ]
  },
  {
   "cell_type": "markdown",
   "metadata": {},
   "source": [
    "**Analysis of most common causes of natural deaths in the United States**"
   ]
  },
  {
   "cell_type": "code",
   "execution_count": null,
   "metadata": {},
   "outputs": [],
   "source": [
    "Ascending_deaths = deaths_byUS.sort_values(by='Deaths', ascending= False)\n",
    "Ascending_deaths"
   ]
  },
  {
   "cell_type": "code",
   "execution_count": null,
   "metadata": {},
   "outputs": [],
   "source": [
    "# Value to check for in 'col1'\n",
    "value_to_check = \"Alzheimer's disease\"\n",
    "\n",
    "# Column to sum\n",
    "column_to_sum = 'Deaths'\n",
    "\n",
    "# Filter rows based on the condition\n",
    "filtered_rows = deaths_byUS[deaths_byUS['Cause Name'] == value_to_check]\n",
    "\n",
    "# Sum the specified column in the filtered rows\n",
    "sum_of_column = filtered_rows[column_to_sum].sum()\n",
    "\n",
    "print(sum_of_column)"
   ]
  },
  {
   "cell_type": "code",
   "execution_count": null,
   "metadata": {},
   "outputs": [],
   "source": [
    "# List of Causes of Death\n",
    "values_to_check = CDC_causes_of_death_list\n",
    "\n",
    "# Column to sum\n",
    "column_to_sum = 'Deaths'\n",
    "\n",
    "# Create a list to store results\n",
    "results = []\n",
    "\n",
    "# Loop through each value and compute the sum\n",
    "for value in values_to_check:\n",
    "    filtered_rows = deaths_byUS[deaths_byUS['Cause Name'] == value] # Filter rows based on value\n",
    "    sum_of_column = filtered_rows[column_to_sum].sum()  # Sum the specified column\n",
    "    results.append({'Cause Name': value, 'Total Deaths': sum_of_column})# Store result in dictionary\n",
    "\n",
    "#Create ne Dataframe from results\n",
    "CDC_causes_of_death_results = pd.DataFrame(results)\n",
    "CDC_causes_of_death_results\n"
   ]
  },
  {
   "cell_type": "code",
   "execution_count": null,
   "metadata": {},
   "outputs": [],
   "source": [
    "#removing rows that are too broad\n",
    "Causes_to_drop = ['Unintentional injuries', 'All causes']\n",
    "CDC_causes_of_death_results = CDC_causes_of_death_results[~CDC_causes_of_death_results['Cause Name'].isin(Causes_to_drop)]\n",
    "CDC_causes_of_death_results"
   ]
  },
  {
   "cell_type": "code",
   "execution_count": null,
   "metadata": {},
   "outputs": [],
   "source": [
    "Ascending_cdcdeaths = CDC_causes_of_death_results.sort_values(by='Total Deaths', ascending= False)\n",
    "Ascending_cdcdeaths.head()"
   ]
  },
  {
   "cell_type": "code",
   "execution_count": null,
   "metadata": {},
   "outputs": [],
   "source": [
    "plt.figure(figsize=(18,6))\n",
    "plt.scatter(Ascending_deaths['Cause Name'].astype(\"string\"), Ascending_deaths['Deaths'])\n",
    "plt.title('Causes of Death')\n",
    "plt.ylabel('Number of Deaths')\n",
    "plt.show()"
   ]
  },
  {
   "cell_type": "code",
   "execution_count": null,
   "metadata": {},
   "outputs": [],
   "source": [
    "\n",
    "CDC_Causes = CDC_causes_of_death_results['Cause Name']\n",
    "CDC_Causes"
   ]
  },
  {
   "cell_type": "code",
   "execution_count": null,
   "metadata": {},
   "outputs": [],
   "source": [
    "# Box plot\n",
    "\n",
    "plt.figure(figsize=(20, 15))\n",
    "sns.boxplot(x='Cause Name', y='Total Deaths', data=Ascending_cdcdeaths)\n",
    "plt.title('Natural Causes of Death')\n",
    "plt.xlabel('Cause Name')\n",
    "plt.ylabel('Total Deaths')\n",
    "plt.show()"
   ]
  },
  {
   "cell_type": "markdown",
   "metadata": {},
   "source": [
    "# Conclusion\n",
    "\n",
    "**More information is needed to determine a correlation between alternative therapy clinical trials and the most common natural causes of death in the United States.  Obesity was the highest condition researched in the alternative therapies sample set.  Heart disease is the leading cause of death in the United States.  Cancer was the second most studied alternative therapy, and cancer is the second leading cause of death.  If we focused on the second leading cause of death, there may be some link between cancer death rates and alternative therapy treatment research. Obtaining more obesity data related to causes of death may show a strong relation.**"
   ]
  }
 ],
 "metadata": {
  "kernelspec": {
   "display_name": ".venv",
   "language": "python",
   "name": "python3"
  },
  "language_info": {
   "codemirror_mode": {
    "name": "ipython",
    "version": 3
   },
   "file_extension": ".py",
   "mimetype": "text/x-python",
   "name": "python",
   "nbconvert_exporter": "python",
   "pygments_lexer": "ipython3",
   "version": "3.13.0"
  }
 },
 "nbformat": 4,
 "nbformat_minor": 2
}
